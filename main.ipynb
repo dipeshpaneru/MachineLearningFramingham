{
 "cells": [
  {
   "cell_type": "code",
   "execution_count": 561,
   "id": "6c8ac801",
   "metadata": {},
   "outputs": [],
   "source": [
    "import pandas as pd\n",
    "import seaborn as sns\n",
    "from sklearn.model_selection import train_test_split\n",
    "from sklearn.linear_model import LogisticRegression\n",
    "from sklearn.metrics import confusion_matrix, accuracy_score, classification_report\n",
    "from sklearn import preprocessing\n",
    "from sklearn.model_selection import cross_val_score\n",
    "from imblearn.over_sampling import SMOTE\n",
    "from imblearn.under_sampling import RandomUnderSampler\n",
    "from tensorflow.keras.models import Sequential\n",
    "from tensorflow.keras.layers import Dense, Dropout\n",
    "from tensorflow.keras.optimizers import Adam\n",
    "import tensorflow as tf\n",
    "from sklearn.preprocessing import StandardScaler\n",
    "from xgboost import XGBClassifier\n"
   ]
  },
  {
   "cell_type": "code",
   "execution_count": 562,
   "id": "c736e7db",
   "metadata": {},
   "outputs": [
    {
     "data": {
      "text/html": [
       "<div>\n",
       "<style scoped>\n",
       "    .dataframe tbody tr th:only-of-type {\n",
       "        vertical-align: middle;\n",
       "    }\n",
       "\n",
       "    .dataframe tbody tr th {\n",
       "        vertical-align: top;\n",
       "    }\n",
       "\n",
       "    .dataframe thead th {\n",
       "        text-align: right;\n",
       "    }\n",
       "</style>\n",
       "<table border=\"1\" class=\"dataframe\">\n",
       "  <thead>\n",
       "    <tr style=\"text-align: right;\">\n",
       "      <th></th>\n",
       "      <th>male</th>\n",
       "      <th>age</th>\n",
       "      <th>education</th>\n",
       "      <th>currentSmoker</th>\n",
       "      <th>cigsPerDay</th>\n",
       "      <th>BPMeds</th>\n",
       "      <th>prevalentStroke</th>\n",
       "      <th>prevalentHyp</th>\n",
       "      <th>diabetes</th>\n",
       "      <th>totChol</th>\n",
       "      <th>sysBP</th>\n",
       "      <th>diaBP</th>\n",
       "      <th>BMI</th>\n",
       "      <th>heartRate</th>\n",
       "      <th>glucose</th>\n",
       "      <th>TenYearCHD</th>\n",
       "    </tr>\n",
       "  </thead>\n",
       "  <tbody>\n",
       "    <tr>\n",
       "      <th>0</th>\n",
       "      <td>1</td>\n",
       "      <td>39</td>\n",
       "      <td>4.0</td>\n",
       "      <td>0</td>\n",
       "      <td>0.0</td>\n",
       "      <td>0.0</td>\n",
       "      <td>0</td>\n",
       "      <td>0</td>\n",
       "      <td>0</td>\n",
       "      <td>195.0</td>\n",
       "      <td>106.0</td>\n",
       "      <td>70.0</td>\n",
       "      <td>26.97</td>\n",
       "      <td>80.0</td>\n",
       "      <td>77.0</td>\n",
       "      <td>0</td>\n",
       "    </tr>\n",
       "    <tr>\n",
       "      <th>1</th>\n",
       "      <td>0</td>\n",
       "      <td>46</td>\n",
       "      <td>2.0</td>\n",
       "      <td>0</td>\n",
       "      <td>0.0</td>\n",
       "      <td>0.0</td>\n",
       "      <td>0</td>\n",
       "      <td>0</td>\n",
       "      <td>0</td>\n",
       "      <td>250.0</td>\n",
       "      <td>121.0</td>\n",
       "      <td>81.0</td>\n",
       "      <td>28.73</td>\n",
       "      <td>95.0</td>\n",
       "      <td>76.0</td>\n",
       "      <td>0</td>\n",
       "    </tr>\n",
       "    <tr>\n",
       "      <th>2</th>\n",
       "      <td>1</td>\n",
       "      <td>48</td>\n",
       "      <td>1.0</td>\n",
       "      <td>1</td>\n",
       "      <td>20.0</td>\n",
       "      <td>0.0</td>\n",
       "      <td>0</td>\n",
       "      <td>0</td>\n",
       "      <td>0</td>\n",
       "      <td>245.0</td>\n",
       "      <td>127.5</td>\n",
       "      <td>80.0</td>\n",
       "      <td>25.34</td>\n",
       "      <td>75.0</td>\n",
       "      <td>70.0</td>\n",
       "      <td>0</td>\n",
       "    </tr>\n",
       "    <tr>\n",
       "      <th>3</th>\n",
       "      <td>0</td>\n",
       "      <td>61</td>\n",
       "      <td>3.0</td>\n",
       "      <td>1</td>\n",
       "      <td>30.0</td>\n",
       "      <td>0.0</td>\n",
       "      <td>0</td>\n",
       "      <td>1</td>\n",
       "      <td>0</td>\n",
       "      <td>225.0</td>\n",
       "      <td>150.0</td>\n",
       "      <td>95.0</td>\n",
       "      <td>28.58</td>\n",
       "      <td>65.0</td>\n",
       "      <td>103.0</td>\n",
       "      <td>1</td>\n",
       "    </tr>\n",
       "    <tr>\n",
       "      <th>4</th>\n",
       "      <td>0</td>\n",
       "      <td>46</td>\n",
       "      <td>3.0</td>\n",
       "      <td>1</td>\n",
       "      <td>23.0</td>\n",
       "      <td>0.0</td>\n",
       "      <td>0</td>\n",
       "      <td>0</td>\n",
       "      <td>0</td>\n",
       "      <td>285.0</td>\n",
       "      <td>130.0</td>\n",
       "      <td>84.0</td>\n",
       "      <td>23.10</td>\n",
       "      <td>85.0</td>\n",
       "      <td>85.0</td>\n",
       "      <td>0</td>\n",
       "    </tr>\n",
       "  </tbody>\n",
       "</table>\n",
       "</div>"
      ],
      "text/plain": [
       "   male  age  education  currentSmoker  cigsPerDay  BPMeds  prevalentStroke  \\\n",
       "0     1   39        4.0              0         0.0     0.0                0   \n",
       "1     0   46        2.0              0         0.0     0.0                0   \n",
       "2     1   48        1.0              1        20.0     0.0                0   \n",
       "3     0   61        3.0              1        30.0     0.0                0   \n",
       "4     0   46        3.0              1        23.0     0.0                0   \n",
       "\n",
       "   prevalentHyp  diabetes  totChol  sysBP  diaBP    BMI  heartRate  glucose  \\\n",
       "0             0         0    195.0  106.0   70.0  26.97       80.0     77.0   \n",
       "1             0         0    250.0  121.0   81.0  28.73       95.0     76.0   \n",
       "2             0         0    245.0  127.5   80.0  25.34       75.0     70.0   \n",
       "3             1         0    225.0  150.0   95.0  28.58       65.0    103.0   \n",
       "4             0         0    285.0  130.0   84.0  23.10       85.0     85.0   \n",
       "\n",
       "   TenYearCHD  \n",
       "0           0  \n",
       "1           0  \n",
       "2           0  \n",
       "3           1  \n",
       "4           0  "
      ]
     },
     "execution_count": 562,
     "metadata": {},
     "output_type": "execute_result"
    }
   ],
   "source": [
    "\n",
    "df = pd.read_csv('framingham.csv')\n",
    "df.head()"
   ]
  },
  {
   "cell_type": "code",
   "execution_count": 563,
   "id": "02167ce5",
   "metadata": {},
   "outputs": [
    {
     "name": "stdout",
     "output_type": "stream",
     "text": [
      "4240\n",
      "TenYearCHD\n",
      "0    3596\n",
      "1     644\n",
      "Name: count, dtype: int64\n"
     ]
    }
   ],
   "source": [
    "print(len(df))\n",
    "print(df['TenYearCHD'].value_counts())"
   ]
  },
  {
   "cell_type": "code",
   "execution_count": 564,
   "id": "a81ab1c9",
   "metadata": {},
   "outputs": [
    {
     "name": "stdout",
     "output_type": "stream",
     "text": [
      "TenYearCHD\n",
      "0    3101\n",
      "1     557\n",
      "Name: count, dtype: int64\n"
     ]
    }
   ],
   "source": [
    "df.dropna(axis = 0, inplace = True)\n",
    "print(df['TenYearCHD'].value_counts())"
   ]
  },
  {
   "cell_type": "code",
   "execution_count": 565,
   "id": "fd75de4e",
   "metadata": {},
   "outputs": [
    {
     "name": "stdout",
     "output_type": "stream",
     "text": [
      "                     male       age  education  currentSmoker  cigsPerDay  \\\n",
      "male             1.000000 -0.024412   0.017729       0.206114    0.330322   \n",
      "age             -0.024412  1.000000  -0.159499      -0.210771   -0.189295   \n",
      "education        0.017729 -0.159499   1.000000       0.025251    0.013790   \n",
      "currentSmoker    0.206114 -0.210771   0.025251       1.000000    0.773913   \n",
      "cigsPerDay       0.330322 -0.189295   0.013790       0.773913    1.000000   \n",
      "BPMeds          -0.052124  0.134732  -0.013739      -0.051923   -0.046504   \n",
      "prevalentStroke -0.002312  0.050893  -0.030386      -0.038150   -0.036286   \n",
      "prevalentHyp     0.001424  0.306239  -0.078828      -0.108078   -0.070460   \n",
      "diabetes         0.013819  0.109092  -0.039627      -0.041849   -0.036961   \n",
      "totChol         -0.070321  0.268252  -0.013522      -0.051034   -0.030400   \n",
      "sysBP           -0.045358  0.388267  -0.124360      -0.134428   -0.094781   \n",
      "diaBP            0.051872  0.208283  -0.058059      -0.115955   -0.056746   \n",
      "BMI              0.073111  0.137511  -0.137555      -0.159821   -0.087395   \n",
      "heartRate       -0.115285 -0.002722  -0.064214       0.050841    0.064030   \n",
      "glucose          0.002940  0.118349  -0.031998      -0.053242   -0.053726   \n",
      "TenYearCHD       0.091688  0.233983  -0.063279       0.019165    0.052014   \n",
      "\n",
      "                   BPMeds  prevalentStroke  prevalentHyp  diabetes   totChol  \\\n",
      "male            -0.052124        -0.002312      0.001424  0.013819 -0.070321   \n",
      "age              0.134732         0.050893      0.306239  0.109092  0.268252   \n",
      "education       -0.013739        -0.030386     -0.078828 -0.039627 -0.013522   \n",
      "currentSmoker   -0.051923        -0.038150     -0.108078 -0.041849 -0.051034   \n",
      "cigsPerDay      -0.046504        -0.036286     -0.070460 -0.036961 -0.030400   \n",
      "BPMeds           1.000000         0.113125      0.262910  0.049066  0.094083   \n",
      "prevalentStroke  0.113125         1.000000      0.066057  0.009625  0.012736   \n",
      "prevalentHyp     0.262910         0.066057      1.000000  0.080556  0.166655   \n",
      "diabetes         0.049066         0.009625      0.080556  1.000000  0.048451   \n",
      "totChol          0.094083         0.012736      0.166655  0.048451  1.000000   \n",
      "sysBP            0.271263         0.061070      0.697675  0.102552  0.219925   \n",
      "diaBP            0.199630         0.055834      0.617734  0.050686  0.174422   \n",
      "BMI              0.105642         0.036496      0.302949  0.089009  0.121056   \n",
      "heartRate        0.012889        -0.017019      0.146818  0.060984  0.093053   \n",
      "glucose          0.054232         0.016061      0.086942  0.614820  0.049884   \n",
      "TenYearCHD       0.089152         0.048366      0.181387  0.093431  0.091338   \n",
      "\n",
      "                    sysBP     diaBP       BMI  heartRate   glucose  TenYearCHD  \n",
      "male            -0.045358  0.051872  0.073111  -0.115285  0.002940    0.091688  \n",
      "age              0.388267  0.208283  0.137511  -0.002722  0.118349    0.233983  \n",
      "education       -0.124360 -0.058059 -0.137555  -0.064214 -0.031998   -0.063279  \n",
      "currentSmoker   -0.134428 -0.115955 -0.159821   0.050841 -0.053242    0.019165  \n",
      "cigsPerDay      -0.094781 -0.056746 -0.087395   0.064030 -0.053726    0.052014  \n",
      "BPMeds           0.271263  0.199630  0.105642   0.012889  0.054232    0.089152  \n",
      "prevalentStroke  0.061070  0.055834  0.036496  -0.017019  0.016061    0.048366  \n",
      "prevalentHyp     0.697675  0.617734  0.302949   0.146818  0.086942    0.181387  \n",
      "diabetes         0.102552  0.050686  0.089009   0.060984  0.614820    0.093431  \n",
      "totChol          0.219925  0.174422  0.121056   0.093053  0.049884    0.091338  \n",
      "sysBP            1.000000  0.786669  0.330917   0.184797  0.134651    0.222821  \n",
      "diaBP            0.786669  1.000000  0.385348   0.178744  0.063540    0.150124  \n",
      "BMI              0.330917  0.385348  1.000000   0.074131  0.083683    0.082055  \n",
      "heartRate        0.184797  0.178744  0.074131   1.000000  0.097074    0.020514  \n",
      "glucose          0.134651  0.063540  0.083683   0.097074  1.000000    0.121990  \n",
      "TenYearCHD       0.222821  0.150124  0.082055   0.020514  0.121990    1.000000  \n"
     ]
    },
    {
     "data": {
      "text/plain": [
       "<Axes: >"
      ]
     },
     "execution_count": 565,
     "metadata": {},
     "output_type": "execute_result"
    },
    {
     "data": {
      "image/png": "[encoded data removed]",
      "text/plain": [
       "<Figure size 640x480 with 2 Axes>"
      ]
     },
     "metadata": {},
     "output_type": "display_data"
    }
   ],
   "source": [
    "corr_matrix = df.corr()\n",
    "print(corr_matrix)\n",
    "\n",
    "sns.heatmap(corr_matrix, cmap = 'viridis')"
   ]
  },
  {
   "cell_type": "code",
   "execution_count": 566,
   "id": "d073e60c",
   "metadata": {},
   "outputs": [
    {
     "name": "stdout",
     "output_type": "stream",
     "text": [
      "Train set: (2743, 15) (2743,)\n",
      "Test set: (915, 15) (915,)\n"
     ]
    }
   ],
   "source": [
    "features = df.drop('TenYearCHD', axis=1)  # Features\n",
    "target = df['TenYearCHD'] \n",
    "\n",
    "feature_train, feature_test, output_train, output_test = train_test_split(features, target, test_size=0.25, random_state=1)\n",
    "\n",
    "print ('Train set:', feature_train.shape,  output_train.shape)\n",
    "print ('Test set:', feature_test.shape,  output_test.shape)\n"
   ]
  },
  {
   "cell_type": "code",
   "execution_count": 567,
   "id": "a1f4e8c3",
   "metadata": {},
   "outputs": [
    {
     "name": "stdout",
     "output_type": "stream",
     "text": [
      "The accuracy of the Logistic regression model: 0.8491803278688524\n",
      "The confusion matrix of the Logistic regression model is\n",
      " [[766   9]\n",
      " [129  11]]\n",
      "The classification report of the Logistic regression model is\n",
      "               precision    recall  f1-score   support\n",
      "\n",
      "           0       0.86      0.99      0.92       775\n",
      "           1       0.55      0.08      0.14       140\n",
      "\n",
      "    accuracy                           0.85       915\n",
      "   macro avg       0.70      0.53      0.53       915\n",
      "weighted avg       0.81      0.85      0.80       915\n",
      "\n"
     ]
    }
   ],
   "source": [
    "model = LogisticRegression(max_iter=5000)\n",
    "model.fit(feature_train, output_train)\n",
    "\n",
    "output_pred = model.predict(feature_test)\n",
    "\n",
    "\n",
    "print(\"The accuracy of the Logistic regression model:\", accuracy_score(output_test, output_pred))\n",
    "print(\"The confusion matrix of the Logistic regression model is\\n\", confusion_matrix(output_test, output_pred))\n",
    "print(\"The classification report of the Logistic regression model is\\n\", classification_report(output_test, output_pred))\n"
   ]
  },
  {
   "cell_type": "code",
   "execution_count": 568,
   "id": "d4e7aa38",
   "metadata": {},
   "outputs": [],
   "source": [
    "# features = preprocessing.StandardScaler().fit(features).transform(features)\n",
    "\n",
    "# feature_train, feature_test, output_train, output_test = train_test_split(features, target, test_size=0.25, random_state=44)\n",
    "\n",
    "# model = LogisticRegression(max_iter=1000)\n",
    "# model.fit(feature_train, output_train)\n",
    "\n",
    "# output_pred = model.predict(feature_test)\n",
    "\n",
    "\n",
    "# print(\"The accuracy of the Logistic regression model:\", accuracy_score(output_test, output_pred))\n",
    "# print(\"The confusion matrix of the Logistic regression model is\\n\", confusion_matrix(output_test, output_pred))\n",
    "# print(\"The classification report of the Logistic regression model is\\n\", classification_report(output_test, output_pred))"
   ]
  },
  {
   "cell_type": "code",
   "execution_count": 569,
   "id": "e4b01620",
   "metadata": {},
   "outputs": [],
   "source": [
    "def stepwise_logistic_regression(X, y, cv=5, scoring='roc_auc', verbose=True):\n",
    "    remaining_features = list(X.columns)\n",
    "    selected_features = []\n",
    "    best_score = 0\n",
    "    while remaining_features:\n",
    "        scores_with_candidates = []\n",
    "\n",
    "        for candidate in remaining_features:\n",
    "            current_features = selected_features + [candidate]\n",
    "            model = LogisticRegression(max_iter=5000)\n",
    "            score = cross_val_score(model, X[current_features], y, cv=cv, scoring=scoring).mean()\n",
    "            scores_with_candidates.append((score, candidate))\n",
    "\n",
    "        scores_with_candidates.sort(reverse=True)\n",
    "        best_candidate_score, best_candidate = scores_with_candidates[0]\n",
    "\n",
    "        if best_candidate_score > best_score:\n",
    "            remaining_features.remove(best_candidate)\n",
    "            selected_features.append(best_candidate)\n",
    "            best_score = best_candidate_score\n",
    "            if verbose:\n",
    "                print(f\"Add {best_candidate} with CV score: {best_candidate_score:.4f}\")\n",
    "        else:\n",
    "            break\n",
    "\n",
    "    return selected_features"
   ]
  },
  {
   "cell_type": "code",
   "execution_count": 570,
   "id": "e7b22b2b",
   "metadata": {},
   "outputs": [
    {
     "name": "stdout",
     "output_type": "stream",
     "text": [
      "Add age with CV score: 0.6853\n",
      "Add sysBP with CV score: 0.7093\n",
      "Add male with CV score: 0.7254\n",
      "Add cigsPerDay with CV score: 0.7296\n",
      "Add diabetes with CV score: 0.7322\n",
      "Add prevalentHyp with CV score: 0.7332\n",
      "Add prevalentStroke with CV score: 0.7335\n",
      "Selected features: ['age', 'sysBP', 'male', 'cigsPerDay', 'diabetes', 'prevalentHyp', 'prevalentStroke']\n"
     ]
    }
   ],
   "source": [
    "\n",
    "selected = stepwise_logistic_regression(features, target)\n",
    "print(\"Selected features:\", selected)"
   ]
  },
  {
   "cell_type": "code",
   "execution_count": 571,
   "id": "d2ec05e2",
   "metadata": {},
   "outputs": [
    {
     "name": "stdout",
     "output_type": "stream",
     "text": [
      "The accuracy of the Logistic regression model: 0.8546448087431694\n",
      "The confusion matrix of the Logistic regression model is\n",
      " [[770   5]\n",
      " [128  12]]\n",
      "The classification report of the Logistic regression model is\n",
      "               precision    recall  f1-score   support\n",
      "\n",
      "           0       0.86      0.99      0.92       775\n",
      "           1       0.71      0.09      0.15       140\n",
      "\n",
      "    accuracy                           0.85       915\n",
      "   macro avg       0.78      0.54      0.54       915\n",
      "weighted avg       0.83      0.85      0.80       915\n",
      "\n"
     ]
    }
   ],
   "source": [
    "step_selec_features = features[['age', 'sysBP', 'male', 'cigsPerDay', 'diabetes', 'prevalentHyp', 'prevalentStroke']]\n",
    "\n",
    "feature_train, feature_test, output_train, output_test = train_test_split(step_selec_features, target, test_size=0.25, random_state=1)\n",
    "\n",
    "model = LogisticRegression(max_iter=5000)\n",
    "model.fit(feature_train, output_train)\n",
    "\n",
    "output_pred = model.predict(feature_test)\n",
    "\n",
    "\n",
    "print(\"The accuracy of the Logistic regression model:\", accuracy_score(output_test, output_pred))\n",
    "print(\"The confusion matrix of the Logistic regression model is\\n\", confusion_matrix(output_test, output_pred))\n",
    "print(\"The classification report of the Logistic regression model is\\n\", classification_report(output_test, output_pred))\n",
    "\n"
   ]
  },
  {
   "cell_type": "code",
   "execution_count": 572,
   "id": "f8a7b311",
   "metadata": {},
   "outputs": [
    {
     "name": "stdout",
     "output_type": "stream",
     "text": [
      "The accuracy of the Logistic regression model: 0.8546448087431694\n",
      "The confusion matrix of the Logistic regression model is\n",
      " [[770   5]\n",
      " [128  12]]\n",
      "The classification report of the Logistic regression model is\n",
      "               precision    recall  f1-score   support\n",
      "\n",
      "           0       0.86      0.99      0.92       775\n",
      "           1       0.71      0.09      0.15       140\n",
      "\n",
      "    accuracy                           0.85       915\n",
      "   macro avg       0.78      0.54      0.54       915\n",
      "weighted avg       0.83      0.85      0.80       915\n",
      "\n"
     ]
    }
   ],
   "source": [
    "model = LogisticRegression(penalty= 'l2', max_iter=5000)\n",
    "model.fit(feature_train, output_train)\n",
    "\n",
    "output_pred = model.predict(feature_test)\n",
    "\n",
    "\n",
    "print(\"The accuracy of the Logistic regression model:\", accuracy_score(output_test, output_pred))\n",
    "print(\"The confusion matrix of the Logistic regression model is\\n\", confusion_matrix(output_test, output_pred))\n",
    "print(\"The classification report of the Logistic regression model is\\n\", classification_report(output_test, output_pred))"
   ]
  },
  {
   "cell_type": "code",
   "execution_count": 573,
   "id": "a19a70a7",
   "metadata": {},
   "outputs": [
    {
     "name": "stdout",
     "output_type": "stream",
     "text": [
      "The accuracy of the Logistic regression model: 0.8546448087431694\n",
      "The confusion matrix of the Logistic regression model is\n",
      " [[770   5]\n",
      " [128  12]]\n",
      "The classification report of the Logistic regression model is\n",
      "               precision    recall  f1-score   support\n",
      "\n",
      "           0       0.86      0.99      0.92       775\n",
      "           1       0.71      0.09      0.15       140\n",
      "\n",
      "    accuracy                           0.85       915\n",
      "   macro avg       0.78      0.54      0.54       915\n",
      "weighted avg       0.83      0.85      0.80       915\n",
      "\n"
     ]
    }
   ],
   "source": [
    "model = LogisticRegression(penalty='l1', solver='liblinear', C=1.0, max_iter=5000)\n",
    "model.fit(feature_train, output_train)\n",
    "\n",
    "output_pred = model.predict(feature_test)\n",
    "\n",
    "\n",
    "print(\"The accuracy of the Logistic regression model:\", accuracy_score(output_test, output_pred))\n",
    "print(\"The confusion matrix of the Logistic regression model is\\n\", confusion_matrix(output_test, output_pred))\n",
    "print(\"The classification report of the Logistic regression model is\\n\", classification_report(output_test, output_pred))"
   ]
  },
  {
   "cell_type": "code",
   "execution_count": 574,
   "id": "624c293a",
   "metadata": {},
   "outputs": [
    {
     "name": "stdout",
     "output_type": "stream",
     "text": [
      "The accuracy of the Logistic regression model: 0.853551912568306\n",
      "The confusion matrix of the Logistic regression model is\n",
      " [[769   7]\n",
      " [127  12]]\n",
      "The classification report of the Logistic regression model is\n",
      "               precision    recall  f1-score   support\n",
      "\n",
      "           0       0.86      0.99      0.92       776\n",
      "           1       0.63      0.09      0.15       139\n",
      "\n",
      "    accuracy                           0.85       915\n",
      "   macro avg       0.74      0.54      0.54       915\n",
      "weighted avg       0.82      0.85      0.80       915\n",
      "\n"
     ]
    }
   ],
   "source": [
    "feature_train, feature_test, output_train, output_test = train_test_split(step_selec_features, target, test_size=0.25, random_state=10, stratify=target)\n",
    "\n",
    "\n",
    "\n",
    "model = LogisticRegression(max_iter=5000)\n",
    "model.fit(feature_train, output_train)\n",
    "\n",
    "output_pred = model.predict(feature_test)\n",
    "\n",
    "\n",
    "print(\"The accuracy of the Logistic regression model:\", accuracy_score(output_test, output_pred))\n",
    "print(\"The confusion matrix of the Logistic regression model is\\n\", confusion_matrix(output_test, output_pred))\n",
    "print(\"The classification report of the Logistic regression model is\\n\", classification_report(output_test, output_pred))"
   ]
  },
  {
   "cell_type": "code",
   "execution_count": 575,
   "id": "474bf4e3",
   "metadata": {},
   "outputs": [
    {
     "name": "stdout",
     "output_type": "stream",
     "text": [
      "The accuracy of the Logistic regression model: 0.6640876853642811\n",
      "The confusion matrix of the Logistic regression model is\n",
      " [[506 269]\n",
      " [252 524]]\n",
      "The classification report of the Logistic regression model is\n",
      "               precision    recall  f1-score   support\n",
      "\n",
      "           0       0.67      0.65      0.66       775\n",
      "           1       0.66      0.68      0.67       776\n",
      "\n",
      "    accuracy                           0.66      1551\n",
      "   macro avg       0.66      0.66      0.66      1551\n",
      "weighted avg       0.66      0.66      0.66      1551\n",
      "\n"
     ]
    },
    {
     "name": "stderr",
     "output_type": "stream",
     "text": [
      "/Users/dipeshpaneru/Documents/UniveristyWork/Machine Learning/MachineLearningFramingham/venv/lib/python3.9/site-packages/sklearn/base.py:474: FutureWarning: `BaseEstimator._validate_data` is deprecated in 1.6 and will be removed in 1.7. Use `sklearn.utils.validation.validate_data` instead. This function becomes public and is part of the scikit-learn developer API.\n",
      "  warnings.warn(\n"
     ]
    }
   ],
   "source": [
    "smote = SMOTE(random_state=5)\n",
    "X_scaled = StandardScaler().fit_transform(step_selec_features)\n",
    "X_s, y_s = smote.fit_resample(X_scaled, target)\n",
    "\n",
    "\n",
    "xs_train, xs_test, ys_train, ys_test = train_test_split(X_s, y_s, stratify=y_s, test_size=0.25, random_state=22)\n",
    "\n",
    "\n",
    "\n",
    "model = LogisticRegression(max_iter=10000)\n",
    "model.fit(xs_train, ys_train)\n",
    "\n",
    "output_pred = model.predict(xs_test)\n",
    "\n",
    "\n",
    "print(\"The accuracy of the Logistic regression model:\", accuracy_score(ys_test, output_pred))\n",
    "print(\"The confusion matrix of the Logistic regression model is\\n\", confusion_matrix(ys_test, output_pred))\n",
    "print(\"The classification report of the Logistic regression model is\\n\", classification_report(ys_test, output_pred))"
   ]
  },
  {
   "cell_type": "code",
   "execution_count": 576,
   "id": "5cbecec7",
   "metadata": {},
   "outputs": [
    {
     "name": "stdout",
     "output_type": "stream",
     "text": [
      "The accuracy of the Logistic regression model: 0.6810035842293907\n",
      "The confusion matrix of the Logistic regression model is\n",
      " [[92 47]\n",
      " [42 98]]\n",
      "The classification report of the Logistic regression model is\n",
      "               precision    recall  f1-score   support\n",
      "\n",
      "           0       0.69      0.66      0.67       139\n",
      "           1       0.68      0.70      0.69       140\n",
      "\n",
      "    accuracy                           0.68       279\n",
      "   macro avg       0.68      0.68      0.68       279\n",
      "weighted avg       0.68      0.68      0.68       279\n",
      "\n"
     ]
    },
    {
     "name": "stderr",
     "output_type": "stream",
     "text": [
      "/Users/dipeshpaneru/Documents/UniveristyWork/Machine Learning/MachineLearningFramingham/venv/lib/python3.9/site-packages/sklearn/utils/deprecation.py:151: FutureWarning: 'force_all_finite' was renamed to 'ensure_all_finite' in 1.6 and will be removed in 1.8.\n",
      "  warnings.warn(\n",
      "/Users/dipeshpaneru/Documents/UniveristyWork/Machine Learning/MachineLearningFramingham/venv/lib/python3.9/site-packages/sklearn/base.py:484: FutureWarning: `BaseEstimator._check_n_features` is deprecated in 1.6 and will be removed in 1.7. Use `sklearn.utils.validation._check_n_features` instead.\n",
      "  warnings.warn(\n",
      "/Users/dipeshpaneru/Documents/UniveristyWork/Machine Learning/MachineLearningFramingham/venv/lib/python3.9/site-packages/sklearn/base.py:493: FutureWarning: `BaseEstimator._check_feature_names` is deprecated in 1.6 and will be removed in 1.7. Use `sklearn.utils.validation._check_feature_names` instead.\n",
      "  warnings.warn(\n"
     ]
    }
   ],
   "source": [
    "rus = RandomUnderSampler(random_state=5)\n",
    "X_scaled = StandardScaler().fit_transform(step_selec_features)\n",
    "\n",
    "X_u, y_u = rus.fit_resample(X_scaled, target)\n",
    "\n",
    "\n",
    "xu_train, xu_test, yu_train, yu_test = train_test_split(X_u, y_u, stratify=y_u, test_size=0.25, random_state=10)\n",
    "\n",
    "\n",
    "\n",
    "model = LogisticRegression(penalty='l1', solver='liblinear', C=1.0, max_iter=5000)\n",
    "model.fit(xu_train, yu_train)\n",
    "\n",
    "output_pred = model.predict(xu_test)\n",
    "\n",
    "\n",
    "print(\"The accuracy of the Logistic regression model:\", accuracy_score(yu_test, output_pred))\n",
    "print(\"The confusion matrix of the Logistic regression model is\\n\", confusion_matrix(yu_test, output_pred))\n",
    "print(\"The classification report of the Logistic regression model is\\n\", classification_report(yu_test, output_pred))"
   ]
  },
  {
   "cell_type": "code",
   "execution_count": 577,
   "id": "8f696448",
   "metadata": {},
   "outputs": [
    {
     "name": "stdout",
     "output_type": "stream",
     "text": [
      "Epoch 1/20\n"
     ]
    },
    {
     "name": "stderr",
     "output_type": "stream",
     "text": [
      "/Users/dipeshpaneru/Documents/UniveristyWork/Machine Learning/MachineLearningFramingham/venv/lib/python3.9/site-packages/keras/src/layers/core/dense.py:87: UserWarning: Do not pass an `input_shape`/`input_dim` argument to a layer. When using Sequential models, prefer using an `Input(shape)` object as the first layer in the model instead.\n",
      "  super().__init__(activity_regularizer=activity_regularizer, **kwargs)\n"
     ]
    },
    {
     "name": "stdout",
     "output_type": "stream",
     "text": [
      "\u001b[1m146/146\u001b[0m \u001b[32m━━━━━━━━━━━━━━━━━━━━\u001b[0m\u001b[37m\u001b[0m \u001b[1m1s\u001b[0m 788us/step - accuracy: 0.6105 - loss: 0.6554 - precision_45: 0.5983 - recall_45: 0.7247\n",
      "Epoch 2/20\n",
      "\u001b[1m146/146\u001b[0m \u001b[32m━━━━━━━━━━━━━━━━━━━━\u001b[0m\u001b[37m\u001b[0m \u001b[1m0s\u001b[0m 746us/step - accuracy: 0.6753 - loss: 0.6188 - precision_45: 0.6703 - recall_45: 0.7050\n",
      "Epoch 3/20\n",
      "\u001b[1m146/146\u001b[0m \u001b[32m━━━━━━━━━━━━━━━━━━━━\u001b[0m\u001b[37m\u001b[0m \u001b[1m0s\u001b[0m 734us/step - accuracy: 0.6697 - loss: 0.6071 - precision_45: 0.6725 - recall_45: 0.6798\n",
      "Epoch 4/20\n",
      "\u001b[1m146/146\u001b[0m \u001b[32m━━━━━━━━━━━━━━━━━━━━\u001b[0m\u001b[37m\u001b[0m \u001b[1m0s\u001b[0m 772us/step - accuracy: 0.6921 - loss: 0.5965 - precision_45: 0.6833 - recall_45: 0.7156\n",
      "Epoch 5/20\n",
      "\u001b[1m146/146\u001b[0m \u001b[32m━━━━━━━━━━━━━━━━━━━━\u001b[0m\u001b[37m\u001b[0m \u001b[1m0s\u001b[0m 759us/step - accuracy: 0.6857 - loss: 0.6031 - precision_45: 0.6726 - recall_45: 0.7131\n",
      "Epoch 6/20\n",
      "\u001b[1m146/146\u001b[0m \u001b[32m━━━━━━━━━━━━━━━━━━━━\u001b[0m\u001b[37m\u001b[0m \u001b[1m0s\u001b[0m 770us/step - accuracy: 0.6836 - loss: 0.6060 - precision_45: 0.6821 - recall_45: 0.6974\n",
      "Epoch 7/20\n",
      "\u001b[1m146/146\u001b[0m \u001b[32m━━━━━━━━━━━━━━━━━━━━\u001b[0m\u001b[37m\u001b[0m \u001b[1m0s\u001b[0m 754us/step - accuracy: 0.6958 - loss: 0.5950 - precision_45: 0.6902 - recall_45: 0.6943\n",
      "Epoch 8/20\n",
      "\u001b[1m146/146\u001b[0m \u001b[32m━━━━━━━━━━━━━━━━━━━━\u001b[0m\u001b[37m\u001b[0m \u001b[1m0s\u001b[0m 711us/step - accuracy: 0.6965 - loss: 0.5917 - precision_45: 0.6966 - recall_45: 0.7080\n",
      "Epoch 9/20\n",
      "\u001b[1m146/146\u001b[0m \u001b[32m━━━━━━━━━━━━━━━━━━━━\u001b[0m\u001b[37m\u001b[0m \u001b[1m0s\u001b[0m 715us/step - accuracy: 0.6942 - loss: 0.5884 - precision_45: 0.6908 - recall_45: 0.7136\n",
      "Epoch 10/20\n",
      "\u001b[1m146/146\u001b[0m \u001b[32m━━━━━━━━━━━━━━━━━━━━\u001b[0m\u001b[37m\u001b[0m \u001b[1m0s\u001b[0m 717us/step - accuracy: 0.7069 - loss: 0.5850 - precision_45: 0.7003 - recall_45: 0.7216\n",
      "Epoch 11/20\n",
      "\u001b[1m146/146\u001b[0m \u001b[32m━━━━━━━━━━━━━━━━━━━━\u001b[0m\u001b[37m\u001b[0m \u001b[1m0s\u001b[0m 1ms/step - accuracy: 0.6975 - loss: 0.5855 - precision_45: 0.6912 - recall_45: 0.7199\n",
      "Epoch 12/20\n",
      "\u001b[1m146/146\u001b[0m \u001b[32m━━━━━━━━━━━━━━━━━━━━\u001b[0m\u001b[37m\u001b[0m \u001b[1m0s\u001b[0m 716us/step - accuracy: 0.6988 - loss: 0.5783 - precision_45: 0.6920 - recall_45: 0.7170\n",
      "Epoch 13/20\n",
      "\u001b[1m146/146\u001b[0m \u001b[32m━━━━━━━━━━━━━━━━━━━━\u001b[0m\u001b[37m\u001b[0m \u001b[1m0s\u001b[0m 718us/step - accuracy: 0.6967 - loss: 0.5880 - precision_45: 0.6945 - recall_45: 0.7060\n",
      "Epoch 14/20\n",
      "\u001b[1m146/146\u001b[0m \u001b[32m━━━━━━━━━━━━━━━━━━━━\u001b[0m\u001b[37m\u001b[0m \u001b[1m0s\u001b[0m 714us/step - accuracy: 0.6946 - loss: 0.5889 - precision_45: 0.6890 - recall_45: 0.6952\n",
      "Epoch 15/20\n",
      "\u001b[1m146/146\u001b[0m \u001b[32m━━━━━━━━━━━━━━━━━━━━\u001b[0m\u001b[37m\u001b[0m \u001b[1m0s\u001b[0m 711us/step - accuracy: 0.7055 - loss: 0.5811 - precision_45: 0.7071 - recall_45: 0.7133\n",
      "Epoch 16/20\n",
      "\u001b[1m146/146\u001b[0m \u001b[32m━━━━━━━━━━━━━━━━━━━━\u001b[0m\u001b[37m\u001b[0m \u001b[1m0s\u001b[0m 712us/step - accuracy: 0.6951 - loss: 0.5813 - precision_45: 0.7045 - recall_45: 0.7147\n",
      "Epoch 17/20\n",
      "\u001b[1m146/146\u001b[0m \u001b[32m━━━━━━━━━━━━━━━━━━━━\u001b[0m\u001b[37m\u001b[0m \u001b[1m0s\u001b[0m 711us/step - accuracy: 0.6822 - loss: 0.5981 - precision_45: 0.6797 - recall_45: 0.6966\n",
      "Epoch 18/20\n",
      "\u001b[1m146/146\u001b[0m \u001b[32m━━━━━━━━━━━━━━━━━━━━\u001b[0m\u001b[37m\u001b[0m \u001b[1m0s\u001b[0m 708us/step - accuracy: 0.7060 - loss: 0.5852 - precision_45: 0.6948 - recall_45: 0.7227\n",
      "Epoch 19/20\n",
      "\u001b[1m146/146\u001b[0m \u001b[32m━━━━━━━━━━━━━━━━━━━━\u001b[0m\u001b[37m\u001b[0m \u001b[1m0s\u001b[0m 710us/step - accuracy: 0.7015 - loss: 0.5838 - precision_45: 0.7041 - recall_45: 0.7026\n",
      "Epoch 20/20\n",
      "\u001b[1m146/146\u001b[0m \u001b[32m━━━━━━━━━━━━━━━━━━━━\u001b[0m\u001b[37m\u001b[0m \u001b[1m0s\u001b[0m 709us/step - accuracy: 0.7084 - loss: 0.5752 - precision_45: 0.7015 - recall_45: 0.7171\n",
      "\u001b[1m49/49\u001b[0m \u001b[32m━━━━━━━━━━━━━━━━━━━━\u001b[0m\u001b[37m\u001b[0m \u001b[1m0s\u001b[0m 773us/step\n",
      "The accuracy of the Logistic regression model: 0.6686009026434558\n",
      "The confusion matrix of the Logistic regression model is\n",
      " [[514 261]\n",
      " [253 523]]\n",
      "The classification report of the Logistic regression model is\n",
      "               precision    recall  f1-score   support\n",
      "\n",
      "           0       0.67      0.66      0.67       775\n",
      "           1       0.67      0.67      0.67       776\n",
      "\n",
      "    accuracy                           0.67      1551\n",
      "   macro avg       0.67      0.67      0.67      1551\n",
      "weighted avg       0.67      0.67      0.67      1551\n",
      "\n"
     ]
    }
   ],
   "source": [
    "\n",
    "\n",
    "model = Sequential([\n",
    "    Dense(128, activation='relu', input_shape=(X_s.shape[1],)),\n",
    "    Dropout(0.3),\n",
    "    Dense(64, activation='relu'),\n",
    "    Dropout(0.3),\n",
    "    Dense(32, activation='relu'),\n",
    "    Dropout(0.3),\n",
    "    Dense(1, activation='sigmoid') \n",
    "])\n",
    "\n",
    "model.compile(\n",
    "    loss='binary_crossentropy',\n",
    "    optimizer=Adam(learning_rate=0.001),\n",
    "    metrics=['accuracy', tf.keras.metrics.Precision(), tf.keras.metrics.Recall()]\n",
    ")\n",
    "\n",
    "history = model.fit(\n",
    "    xs_train, ys_train,\n",
    "    epochs=20,\n",
    "    batch_size=32,\n",
    "    verbose=1\n",
    ")\n",
    "\n",
    "y_pred_probs = model.predict(xs_test)\n",
    "y_pred = (y_pred_probs > 0.5).astype(\"int\")\n",
    "\n",
    "\n",
    "print(\"The accuracy of the Logistic regression model:\", accuracy_score(ys_test, y_pred))\n",
    "print(\"The confusion matrix of the Logistic regression model is\\n\", confusion_matrix(ys_test, y_pred))\n",
    "print(\"The classification report of the Logistic regression model is\\n\", classification_report(ys_test, y_pred))\n"
   ]
  },
  {
   "cell_type": "code",
   "execution_count": 578,
   "id": "692fda6e",
   "metadata": {},
   "outputs": [
    {
     "name": "stdout",
     "output_type": "stream",
     "text": [
      "Epoch 1/20\n"
     ]
    },
    {
     "name": "stderr",
     "output_type": "stream",
     "text": [
      "/Users/dipeshpaneru/Documents/UniveristyWork/Machine Learning/MachineLearningFramingham/venv/lib/python3.9/site-packages/keras/src/layers/core/dense.py:87: UserWarning: Do not pass an `input_shape`/`input_dim` argument to a layer. When using Sequential models, prefer using an `Input(shape)` object as the first layer in the model instead.\n",
      "  super().__init__(activity_regularizer=activity_regularizer, **kwargs)\n"
     ]
    },
    {
     "name": "stdout",
     "output_type": "stream",
     "text": [
      "\u001b[1m27/27\u001b[0m \u001b[32m━━━━━━━━━━━━━━━━━━━━\u001b[0m\u001b[37m\u001b[0m \u001b[1m1s\u001b[0m 1ms/step - accuracy: 0.5149 - loss: 0.7187 - precision_46: 0.5433 - recall_46: 0.3112   \n",
      "Epoch 2/20\n",
      "\u001b[1m27/27\u001b[0m \u001b[32m━━━━━━━━━━━━━━━━━━━━\u001b[0m\u001b[37m\u001b[0m \u001b[1m0s\u001b[0m 1ms/step - accuracy: 0.5916 - loss: 0.6655 - precision_46: 0.5779 - recall_46: 0.5429 \n",
      "Epoch 3/20\n",
      "\u001b[1m27/27\u001b[0m \u001b[32m━━━━━━━━━━━━━━━━━━━━\u001b[0m\u001b[37m\u001b[0m \u001b[1m0s\u001b[0m 1ms/step - accuracy: 0.6382 - loss: 0.6413 - precision_46: 0.6120 - recall_46: 0.6877 \n",
      "Epoch 4/20\n",
      "\u001b[1m27/27\u001b[0m \u001b[32m━━━━━━━━━━━━━━━━━━━━\u001b[0m\u001b[37m\u001b[0m \u001b[1m0s\u001b[0m 1ms/step - accuracy: 0.6321 - loss: 0.6396 - precision_46: 0.6197 - recall_46: 0.7240 \n",
      "Epoch 5/20\n",
      "\u001b[1m27/27\u001b[0m \u001b[32m━━━━━━━━━━━━━━━━━━━━\u001b[0m\u001b[37m\u001b[0m \u001b[1m0s\u001b[0m 1ms/step - accuracy: 0.6580 - loss: 0.6097 - precision_46: 0.6393 - recall_46: 0.6787 \n",
      "Epoch 6/20\n",
      "\u001b[1m27/27\u001b[0m \u001b[32m━━━━━━━━━━━━━━━━━━━━\u001b[0m\u001b[37m\u001b[0m \u001b[1m0s\u001b[0m 1ms/step - accuracy: 0.6527 - loss: 0.6218 - precision_46: 0.6320 - recall_46: 0.7188 \n",
      "Epoch 7/20\n",
      "\u001b[1m27/27\u001b[0m \u001b[32m━━━━━━━━━━━━━━━━━━━━\u001b[0m\u001b[37m\u001b[0m \u001b[1m0s\u001b[0m 1ms/step - accuracy: 0.6459 - loss: 0.6351 - precision_46: 0.6382 - recall_46: 0.7036 \n",
      "Epoch 8/20\n",
      "\u001b[1m27/27\u001b[0m \u001b[32m━━━━━━━━━━━━━━━━━━━━\u001b[0m\u001b[37m\u001b[0m \u001b[1m0s\u001b[0m 1ms/step - accuracy: 0.6213 - loss: 0.6468 - precision_46: 0.6033 - recall_46: 0.6738 \n",
      "Epoch 9/20\n",
      "\u001b[1m27/27\u001b[0m \u001b[32m━━━━━━━━━━━━━━━━━━━━\u001b[0m\u001b[37m\u001b[0m \u001b[1m0s\u001b[0m 1ms/step - accuracy: 0.6429 - loss: 0.6342 - precision_46: 0.6069 - recall_46: 0.6990 \n",
      "Epoch 10/20\n",
      "\u001b[1m27/27\u001b[0m \u001b[32m━━━━━━━━━━━━━━━━━━━━\u001b[0m\u001b[37m\u001b[0m \u001b[1m0s\u001b[0m 1ms/step - accuracy: 0.6407 - loss: 0.6297 - precision_46: 0.6241 - recall_46: 0.6806 \n",
      "Epoch 11/20\n",
      "\u001b[1m27/27\u001b[0m \u001b[32m━━━━━━━━━━━━━━━━━━━━\u001b[0m\u001b[37m\u001b[0m \u001b[1m0s\u001b[0m 1ms/step - accuracy: 0.6308 - loss: 0.6389 - precision_46: 0.6233 - recall_46: 0.6950 \n",
      "Epoch 12/20\n",
      "\u001b[1m27/27\u001b[0m \u001b[32m━━━━━━━━━━━━━━━━━━━━\u001b[0m\u001b[37m\u001b[0m \u001b[1m0s\u001b[0m 1ms/step - accuracy: 0.6443 - loss: 0.6289 - precision_46: 0.6349 - recall_46: 0.6775 \n",
      "Epoch 13/20\n",
      "\u001b[1m27/27\u001b[0m \u001b[32m━━━━━━━━━━━━━━━━━━━━\u001b[0m\u001b[37m\u001b[0m \u001b[1m0s\u001b[0m 1ms/step - accuracy: 0.6329 - loss: 0.6193 - precision_46: 0.6175 - recall_46: 0.6935 \n",
      "Epoch 14/20\n",
      "\u001b[1m27/27\u001b[0m \u001b[32m━━━━━━━━━━━━━━━━━━━━\u001b[0m\u001b[37m\u001b[0m \u001b[1m0s\u001b[0m 1ms/step - accuracy: 0.6602 - loss: 0.6235 - precision_46: 0.6623 - recall_46: 0.6780 \n",
      "Epoch 15/20\n",
      "\u001b[1m27/27\u001b[0m \u001b[32m━━━━━━━━━━━━━━━━━━━━\u001b[0m\u001b[37m\u001b[0m \u001b[1m0s\u001b[0m 1ms/step - accuracy: 0.6645 - loss: 0.6249 - precision_46: 0.6389 - recall_46: 0.6751 \n",
      "Epoch 16/20\n",
      "\u001b[1m27/27\u001b[0m \u001b[32m━━━━━━━━━━━━━━━━━━━━\u001b[0m\u001b[37m\u001b[0m \u001b[1m0s\u001b[0m 1ms/step - accuracy: 0.6737 - loss: 0.6053 - precision_46: 0.6561 - recall_46: 0.7226 \n",
      "Epoch 17/20\n",
      "\u001b[1m27/27\u001b[0m \u001b[32m━━━━━━━━━━━━━━━━━━━━\u001b[0m\u001b[37m\u001b[0m \u001b[1m0s\u001b[0m 1ms/step - accuracy: 0.6639 - loss: 0.6176 - precision_46: 0.6318 - recall_46: 0.7386 \n",
      "Epoch 18/20\n",
      "\u001b[1m27/27\u001b[0m \u001b[32m━━━━━━━━━━━━━━━━━━━━\u001b[0m\u001b[37m\u001b[0m \u001b[1m0s\u001b[0m 1ms/step - accuracy: 0.6433 - loss: 0.6369 - precision_46: 0.6289 - recall_46: 0.7325 \n",
      "Epoch 19/20\n",
      "\u001b[1m27/27\u001b[0m \u001b[32m━━━━━━━━━━━━━━━━━━━━\u001b[0m\u001b[37m\u001b[0m \u001b[1m0s\u001b[0m 1ms/step - accuracy: 0.6628 - loss: 0.6064 - precision_46: 0.6689 - recall_46: 0.6998 \n",
      "Epoch 20/20\n",
      "\u001b[1m27/27\u001b[0m \u001b[32m━━━━━━━━━━━━━━━━━━━━\u001b[0m\u001b[37m\u001b[0m \u001b[1m0s\u001b[0m 1ms/step - accuracy: 0.6765 - loss: 0.6146 - precision_46: 0.6667 - recall_46: 0.6970 \n",
      "\u001b[1m9/9\u001b[0m \u001b[32m━━━━━━━━━━━━━━━━━━━━\u001b[0m\u001b[37m\u001b[0m \u001b[1m0s\u001b[0m 3ms/step \n",
      "The accuracy of the Logistic regression model: 0.6594982078853047\n",
      "The confusion matrix of the Logistic regression model is\n",
      " [[85 54]\n",
      " [41 99]]\n",
      "The classification report of the Logistic regression model is\n",
      "               precision    recall  f1-score   support\n",
      "\n",
      "           0       0.67      0.61      0.64       139\n",
      "           1       0.65      0.71      0.68       140\n",
      "\n",
      "    accuracy                           0.66       279\n",
      "   macro avg       0.66      0.66      0.66       279\n",
      "weighted avg       0.66      0.66      0.66       279\n",
      "\n"
     ]
    }
   ],
   "source": [
    "model = Sequential([\n",
    "    Dense(128, activation='relu', input_shape=(X_u.shape[1],)),\n",
    "    Dropout(0.3),\n",
    "    Dense(64, activation='relu'),\n",
    "    Dropout(0.3),\n",
    "    Dense(32, activation='relu'),\n",
    "    Dropout(0.3),\n",
    "    Dense(1, activation='sigmoid') \n",
    "])\n",
    "\n",
    "model.compile(\n",
    "    loss='binary_crossentropy',\n",
    "    optimizer=Adam(learning_rate=0.001),\n",
    "    metrics=['accuracy', tf.keras.metrics.Precision(), tf.keras.metrics.Recall()]\n",
    ")\n",
    "\n",
    "history = model.fit(\n",
    "    xu_train, yu_train,\n",
    "    epochs=20,\n",
    "    batch_size=32,\n",
    "    verbose=1\n",
    ")\n",
    "\n",
    "y_pred_probs = model.predict(xu_test)\n",
    "y_pred = (y_pred_probs > 0.5).astype(\"int\")\n",
    "\n",
    "\n",
    "print(\"The accuracy of the Logistic regression model:\", accuracy_score(yu_test, y_pred))\n",
    "print(\"The confusion matrix of the Logistic regression model is\\n\", confusion_matrix(yu_test, y_pred))\n",
    "print(\"The classification report of the Logistic regression model is\\n\", classification_report(yu_test, y_pred))"
   ]
  },
  {
   "cell_type": "code",
   "execution_count": 579,
   "id": "cb4fb01d",
   "metadata": {},
   "outputs": [
    {
     "name": "stdout",
     "output_type": "stream",
     "text": [
      "The accuracy of the Logistic regression model: 0.8284977433913604\n",
      "The confusion matrix of the Logistic regression model is\n",
      " [[682  93]\n",
      " [173 603]]\n",
      "The classification report of the Logistic regression model is\n",
      "               precision    recall  f1-score   support\n",
      "\n",
      "           0       0.80      0.88      0.84       775\n",
      "           1       0.87      0.78      0.82       776\n",
      "\n",
      "    accuracy                           0.83      1551\n",
      "   macro avg       0.83      0.83      0.83      1551\n",
      "weighted avg       0.83      0.83      0.83      1551\n",
      "\n"
     ]
    },
    {
     "name": "stderr",
     "output_type": "stream",
     "text": [
      "/Users/dipeshpaneru/Documents/UniveristyWork/Machine Learning/MachineLearningFramingham/venv/lib/python3.9/site-packages/xgboost/core.py:158: UserWarning: [15:31:46] WARNING: /Users/runner/work/xgboost/xgboost/src/learner.cc:740: \n",
      "Parameters: { \"use_label_encoder\" } are not used.\n",
      "\n",
      "  warnings.warn(smsg, UserWarning)\n"
     ]
    }
   ],
   "source": [
    "\n",
    "\n",
    "model = XGBClassifier(use_label_encoder=False, eval_metric='logloss')\n",
    "model.fit(xs_train, ys_train)\n",
    "y_pred = model.predict(xs_test)\n",
    "\n",
    "print(\"The accuracy of the Logistic regression model:\", accuracy_score(ys_test, y_pred))\n",
    "print(\"The confusion matrix of the Logistic regression model is\\n\", confusion_matrix(ys_test, y_pred))\n",
    "print(\"The classification report of the Logistic regression model is\\n\", classification_report(ys_test, y_pred))"
   ]
  },
  {
   "cell_type": "code",
   "execution_count": 580,
   "id": "c7bdec12",
   "metadata": {},
   "outputs": [
    {
     "name": "stderr",
     "output_type": "stream",
     "text": [
      "/Users/dipeshpaneru/Documents/UniveristyWork/Machine Learning/MachineLearningFramingham/venv/lib/python3.9/site-packages/xgboost/core.py:158: UserWarning: [15:31:47] WARNING: /Users/runner/work/xgboost/xgboost/src/learner.cc:740: \n",
      "Parameters: { \"use_label_encoder\" } are not used.\n",
      "\n",
      "  warnings.warn(smsg, UserWarning)\n"
     ]
    },
    {
     "name": "stdout",
     "output_type": "stream",
     "text": [
      "The accuracy of the Logistic regression model: 0.6200716845878136\n",
      "The confusion matrix of the Logistic regression model is\n",
      " [[82 57]\n",
      " [49 91]]\n",
      "The classification report of the Logistic regression model is\n",
      "               precision    recall  f1-score   support\n",
      "\n",
      "           0       0.63      0.59      0.61       139\n",
      "           1       0.61      0.65      0.63       140\n",
      "\n",
      "    accuracy                           0.62       279\n",
      "   macro avg       0.62      0.62      0.62       279\n",
      "weighted avg       0.62      0.62      0.62       279\n",
      "\n"
     ]
    }
   ],
   "source": [
    "model = XGBClassifier(use_label_encoder=False, eval_metric='logloss')\n",
    "model.fit(xu_train, yu_train)\n",
    "y_pred = model.predict(xu_test)\n",
    "\n",
    "print(\"The accuracy of the Logistic regression model:\", accuracy_score(yu_test, y_pred))\n",
    "print(\"The confusion matrix of the Logistic regression model is\\n\", confusion_matrix(yu_test, y_pred))\n",
    "print(\"The classification report of the Logistic regression model is\\n\", classification_report(yu_test, y_pred))"
   ]
  },
  {
   "cell_type": "code",
   "execution_count": 581,
   "id": "c809726b",
   "metadata": {},
   "outputs": [
    {
     "name": "stderr",
     "output_type": "stream",
     "text": [
      "/Users/dipeshpaneru/Documents/UniveristyWork/Machine Learning/MachineLearningFramingham/venv/lib/python3.9/site-packages/xgboost/core.py:158: UserWarning: [15:31:47] WARNING: /Users/runner/work/xgboost/xgboost/src/learner.cc:740: \n",
      "Parameters: { \"use_label_encoder\" } are not used.\n",
      "\n",
      "  warnings.warn(smsg, UserWarning)\n"
     ]
    },
    {
     "name": "stdout",
     "output_type": "stream",
     "text": [
      "The accuracy of the Logistic regression model: 0.819672131147541\n",
      "The confusion matrix of the Logistic regression model is\n",
      " [[732  44]\n",
      " [121  18]]\n",
      "The classification report of the Logistic regression model is\n",
      "               precision    recall  f1-score   support\n",
      "\n",
      "           0       0.86      0.94      0.90       776\n",
      "           1       0.29      0.13      0.18       139\n",
      "\n",
      "    accuracy                           0.82       915\n",
      "   macro avg       0.57      0.54      0.54       915\n",
      "weighted avg       0.77      0.82      0.79       915\n",
      "\n"
     ]
    }
   ],
   "source": [
    "model = XGBClassifier(use_label_encoder=False, eval_metric='logloss')\n",
    "model.fit(feature_train, output_train)\n",
    "\n",
    "output_pred = model.predict(feature_test)\n",
    "\n",
    "\n",
    "print(\"The accuracy of the Logistic regression model:\", accuracy_score(output_test, output_pred))\n",
    "print(\"The confusion matrix of the Logistic regression model is\\n\", confusion_matrix(output_test, output_pred))\n",
    "print(\"The classification report of the Logistic regression model is\\n\", classification_report(output_test, output_pred))"
   ]
  }
 ],
 "metadata": {
  "kernelspec": {
   "display_name": "venv",
   "language": "python",
   "name": "python3"
  },
  "language_info": {
   "codemirror_mode": {
    "name": "ipython",
    "version": 3
   },
   "file_extension": ".py",
   "mimetype": "text/x-python",
   "name": "python",
   "nbconvert_exporter": "python",
   "pygments_lexer": "ipython3",
   "version": "3.9.6"
  }
 },
 "nbformat": 4,
 "nbformat_minor": 5
}
